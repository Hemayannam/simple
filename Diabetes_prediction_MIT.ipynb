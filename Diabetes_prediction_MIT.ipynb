{
  "nbformat": 4,
  "nbformat_minor": 0,
  "metadata": {
    "colab": {
      "provenance": [],
      "authorship_tag": "ABX9TyPtHahmkQqyzYVCqZVngHjk",
      "include_colab_link": true
    },
    "kernelspec": {
      "name": "python3",
      "display_name": "Python 3"
    },
    "language_info": {
      "name": "python"
    }
  },
  "cells": [
    {
      "cell_type": "markdown",
      "metadata": {
        "id": "view-in-github",
        "colab_type": "text"
      },
      "source": [
        "<a href=\"https://colab.research.google.com/github/Hemayannam/simple/blob/main/Diabetes_prediction_MIT.ipynb\" target=\"_parent\"><img src=\"https://colab.research.google.com/assets/colab-badge.svg\" alt=\"Open In Colab\"/></a>"
      ]
    },
    {
      "cell_type": "markdown",
      "source": [
        "#imported the neccessary libraries\n",
        "pandas,numpy libraries.\n",
        "train_test_spilt function form model_selection module.\n",
        "SVC function from svm module.\n",
        "preprocessing function StandardScaler"
      ],
      "metadata": {
        "id": "ebURowlrvOEg"
      }
    },
    {
      "cell_type": "code",
      "source": [
        "import pandas as pd\n",
        "import numpy as np\n",
        "data=pd.read_csv(\"diabetes.csv\")\n",
        "from sklearn.model_selection import train_test_split\n",
        "from sklearn.svm import SVC\n",
        "from sklearn.preprocessing import StandardScaler\n"
      ],
      "metadata": {
        "id": "mRFHKyFGwAXp"
      },
      "execution_count": 3,
      "outputs": []
    },
    {
      "cell_type": "markdown",
      "source": [
        "Splitting of the data into train and test "
      ],
      "metadata": {
        "id": "aTDmtalHwWzN"
      }
    },
    {
      "cell_type": "code",
      "source": [
        "x=data.drop('Outcome',axis=1)\n",
        "y=data['Outcome']\n",
        "x_train,x_test,y_train,y_test=train_test_split(x,y,test_size=0.2,random_state=1)"
      ],
      "metadata": {
        "id": "URIB05Kfur0y"
      },
      "execution_count": 5,
      "outputs": []
    },
    {
      "cell_type": "markdown",
      "source": [
        "#Model building\n",
        "build the model by using Suppoer vector machine algorithm"
      ],
      "metadata": {
        "id": "uOivkYn6wlJh"
      }
    },
    {
      "cell_type": "code",
      "source": [
        "svm_model=SVC()\n",
        "sc=StandardScaler()\n",
        "x_train=sc.fit_transform(x_train)\n",
        "x_test=sc.transform(x_test)\n",
        "svm_model.fit(x_train,y_train)\n",
        "y_pred=svm_model.predict(x_test)\n"
      ],
      "metadata": {
        "id": "dybByJ5ZwVpu"
      },
      "execution_count": 6,
      "outputs": []
    },
    {
      "cell_type": "markdown",
      "source": [],
      "metadata": {
        "id": "RqOvx5EXwRFn"
      }
    },
    {
      "cell_type": "code",
      "source": [
        "from flask import Flask,jsonify\n",
        "app = Flask(__name__)\n",
        "@app.route('/hello')\n",
        "def index():\n",
        "  return 'hello everyone'\n",
        "@app.route(\"/<int:Pregnancies>/<int:Glucose>/<int:BloodPressure>/<int:SkinThickness>/<int:Insulin>/<float:BMI>/<float:DiabetesPedigreeFunction>/<int:Age>\")\n",
        "def home(Pregnancies,Glucose,BloodPressure,SkinThickness,Insulin,BMI,DiabetesPedigreeFunction,Age):\n",
        "    p=[]\n",
        "    p += [Pregnancies,Glucose,BloodPressure,SkinThickness,Insulin,BMI,DiabetesPedigreeFunction,Age]\n",
        "    arr=np.array([p])\n",
        "    predict = svm_model.predict(arr)\n",
        "    if predict == [1]:\n",
        "        result= {'result':\"The person have diabetes\"}\n",
        "    else:\n",
        "        result = {'result':\"The person do not have diabetes\"}\n",
        "    return jsonify(result)\n",
        "app.run()    "
      ],
      "metadata": {
        "colab": {
          "base_uri": "https://localhost:8080/"
        },
        "id": "_VujnoxawR0X",
        "outputId": "3e60ff24-a95f-45be-beaf-c2a7568802c1"
      },
      "execution_count": null,
      "outputs": [
        {
          "metadata": {
            "tags": null
          },
          "name": "stdout",
          "output_type": "stream",
          "text": [
            " * Serving Flask app '__main__'\n",
            " * Debug mode: off\n"
          ]
        },
        {
          "metadata": {
            "tags": null
          },
          "name": "stderr",
          "output_type": "stream",
          "text": [
            "INFO:werkzeug:\u001b[31m\u001b[1mWARNING: This is a development server. Do not use it in a production deployment. Use a production WSGI server instead.\u001b[0m\n",
            " * Running on http://127.0.0.1:5000\n",
            "INFO:werkzeug:\u001b[33mPress CTRL+C to quit\u001b[0m\n"
          ]
        }
      ]
    }
  ]
}